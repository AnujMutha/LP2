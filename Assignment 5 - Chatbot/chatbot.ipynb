{
  "nbformat": 4,
  "nbformat_minor": 0,
  "metadata": {
    "colab": {
      "name": "Ass_5_Chatbot",
      "provenance": [],
      "collapsed_sections": []
    },
    "kernelspec": {
      "name": "python3",
      "display_name": "Python 3"
    },
    "language_info": {
      "name": "python"
    }
  },
  "cells": [
    {
      "cell_type": "code",
      "source": [
        "pip install chatterbot"
      ],
      "metadata": {
        "colab": {
          "base_uri": "https://localhost:8080/"
        },
        "id": "UtQUXmm146jN",
        "outputId": "81f3ac96-e119-41c9-f93b-9052eb960f15"
      },
      "execution_count": 3,
      "outputs": [
        {
          "output_type": "stream",
          "name": "stdout",
          "text": [
            "Collecting chatterbot\n",
            "  Downloading ChatterBot-1.0.8-py2.py3-none-any.whl (63 kB)\n",
            "\u001b[?25l\r\u001b[K     |█████▏                          | 10 kB 20.0 MB/s eta 0:00:01\r\u001b[K     |██████████▎                     | 20 kB 11.0 MB/s eta 0:00:01\r\u001b[K     |███████████████▌                | 30 kB 9.2 MB/s eta 0:00:01\r\u001b[K     |████████████████████▋           | 40 kB 8.4 MB/s eta 0:00:01\r\u001b[K     |█████████████████████████▊      | 51 kB 5.3 MB/s eta 0:00:01\r\u001b[K     |███████████████████████████████ | 61 kB 5.5 MB/s eta 0:00:01\r\u001b[K     |████████████████████████████████| 63 kB 1.6 MB/s \n",
            "\u001b[?25hRequirement already satisfied: python-dateutil<2.9,>=2.8 in /usr/local/lib/python3.7/dist-packages (from chatterbot) (2.8.2)\n",
            "Requirement already satisfied: pytz in /usr/local/lib/python3.7/dist-packages (from chatterbot) (2022.1)\n",
            "Collecting mathparse<0.2,>=0.1\n",
            "  Downloading mathparse-0.1.2-py3-none-any.whl (7.2 kB)\n",
            "Collecting sqlalchemy<1.4,>=1.3\n",
            "  Downloading SQLAlchemy-1.3.24-cp37-cp37m-manylinux2010_x86_64.whl (1.3 MB)\n",
            "\u001b[K     |████████████████████████████████| 1.3 MB 11.1 MB/s \n",
            "\u001b[?25hRequirement already satisfied: six>=1.5 in /usr/local/lib/python3.7/dist-packages (from python-dateutil<2.9,>=2.8->chatterbot) (1.15.0)\n",
            "Installing collected packages: sqlalchemy, mathparse, chatterbot\n",
            "  Attempting uninstall: sqlalchemy\n",
            "    Found existing installation: SQLAlchemy 1.4.36\n",
            "    Uninstalling SQLAlchemy-1.4.36:\n",
            "      Successfully uninstalled SQLAlchemy-1.4.36\n",
            "Successfully installed chatterbot-1.0.8 mathparse-0.1.2 sqlalchemy-1.3.24\n"
          ]
        }
      ]
    },
    {
      "cell_type": "code",
      "execution_count": 2,
      "metadata": {
        "colab": {
          "base_uri": "https://localhost:8080/"
        },
        "id": "lJvRBkRH4Ups",
        "outputId": "b853c028-bc9a-48f5-81c5-d5c441e44925"
      },
      "outputs": [
        {
          "output_type": "stream",
          "name": "stdout",
          "text": [
            "Collecting chatterbot_corpus\n",
            "  Downloading chatterbot_corpus-1.2.0-py2.py3-none-any.whl (117 kB)\n",
            "\u001b[?25l\r\u001b[K     |██▉                             | 10 kB 18.6 MB/s eta 0:00:01\r\u001b[K     |█████▋                          | 20 kB 12.8 MB/s eta 0:00:01\r\u001b[K     |████████▍                       | 30 kB 9.5 MB/s eta 0:00:01\r\u001b[K     |███████████▏                    | 40 kB 8.7 MB/s eta 0:00:01\r\u001b[K     |██████████████                  | 51 kB 4.7 MB/s eta 0:00:01\r\u001b[K     |████████████████▊               | 61 kB 5.5 MB/s eta 0:00:01\r\u001b[K     |███████████████████▋            | 71 kB 5.5 MB/s eta 0:00:01\r\u001b[K     |██████████████████████▍         | 81 kB 5.5 MB/s eta 0:00:01\r\u001b[K     |█████████████████████████▏      | 92 kB 6.1 MB/s eta 0:00:01\r\u001b[K     |████████████████████████████    | 102 kB 5.2 MB/s eta 0:00:01\r\u001b[K     |██████████████████████████████▊ | 112 kB 5.2 MB/s eta 0:00:01\r\u001b[K     |████████████████████████████████| 117 kB 5.2 MB/s \n",
            "\u001b[?25hRequirement already satisfied: PyYAML<4.0,>=3.12 in /usr/local/lib/python3.7/dist-packages (from chatterbot_corpus) (3.13)\n",
            "Installing collected packages: chatterbot-corpus\n",
            "Successfully installed chatterbot-corpus-1.2.0\n"
          ]
        }
      ],
      "source": [
        "pip install chatterbot_corpus"
      ]
    },
    {
      "cell_type": "code",
      "source": [
        "from chatterbot import ChatBot\n",
        "from chatterbot.trainers import ChatterBotCorpusTrainer,ListTrainer"
      ],
      "metadata": {
        "id": "EGsJc4Ar4bSi"
      },
      "execution_count": 4,
      "outputs": []
    },
    {
      "cell_type": "code",
      "source": [
        "chatbot = ChatBot(name='Wanda')"
      ],
      "metadata": {
        "id": "1sVsCKoc5Atc"
      },
      "execution_count": 5,
      "outputs": []
    },
    {
      "cell_type": "code",
      "source": [
        "corpus_trainer = ChatterBotCorpusTrainer(chatbot)\n",
        "list_trainer = ListTrainer(chatbot)"
      ],
      "metadata": {
        "id": "8iPuBP0z5GdH"
      },
      "execution_count": 9,
      "outputs": []
    },
    {
      "cell_type": "code",
      "source": [
        "corpus_trainer.train('chatterbot.corpus.english')\n",
        "bot_info = ['Whats your name ?','Hi, i am Wanda','Whats your number','Its 218882818282zknbsjd']\n",
        "list_trainer.train(bot_info)"
      ],
      "metadata": {
        "colab": {
          "base_uri": "https://localhost:8080/"
        },
        "id": "q9XbkaLz5Xil",
        "outputId": "24272c9b-b5c8-4358-adff-f209dbbe8755"
      },
      "execution_count": 12,
      "outputs": [
        {
          "output_type": "stream",
          "name": "stdout",
          "text": [
            "Training ai.yml: [####################] 100%\n",
            "Training botprofile.yml: [####################] 100%\n",
            "Training computers.yml: [####################] 100%\n",
            "Training conversations.yml: [####################] 100%\n",
            "Training emotion.yml: [####################] 100%\n",
            "Training food.yml: [####################] 100%\n",
            "Training gossip.yml: [####################] 100%\n",
            "Training greetings.yml: [####################] 100%\n",
            "Training health.yml: [####################] 100%\n",
            "Training history.yml: [####################] 100%\n",
            "Training humor.yml: [####################] 100%\n",
            "Training literature.yml: [####################] 100%\n",
            "Training money.yml: [####################] 100%\n",
            "Training movies.yml: [####################] 100%\n",
            "Training politics.yml: [####################] 100%\n",
            "Training psychology.yml: [####################] 100%\n",
            "Training science.yml: [####################] 100%\n",
            "Training sports.yml: [####################] 100%\n",
            "Training trivia.yml: [####################] 100%\n",
            "List Trainer: [####################] 100%\n"
          ]
        }
      ]
    },
    {
      "cell_type": "code",
      "source": [
        "print(chatbot.get_response(\"Whats your name ?\"))"
      ],
      "metadata": {
        "colab": {
          "base_uri": "https://localhost:8080/"
        },
        "id": "OIGoCL6W5o0R",
        "outputId": "51749d33-8c19-410c-88c4-654d64d5739a"
      },
      "execution_count": 11,
      "outputs": [
        {
          "output_type": "stream",
          "name": "stdout",
          "text": [
            "Hi, i am Wanda\n"
          ]
        }
      ]
    },
    {
      "cell_type": "code",
      "source": [
        "print(chatbot.get_response(\"Whats your number ?\"))"
      ],
      "metadata": {
        "colab": {
          "base_uri": "https://localhost:8080/"
        },
        "id": "ABa2S-pX53AB",
        "outputId": "d6c314e1-b361-462c-d2bf-eff5b119693b"
      },
      "execution_count": 13,
      "outputs": [
        {
          "output_type": "stream",
          "name": "stdout",
          "text": [
            "Its 218882818282zknbsjd\n"
          ]
        }
      ]
    }
  ]
}